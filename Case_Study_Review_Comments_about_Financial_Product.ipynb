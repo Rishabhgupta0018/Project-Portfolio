{
  "metadata": {
    "kernelspec": {
      "language": "python",
      "display_name": "Python 3",
      "name": "python3"
    },
    "language_info": {
      "name": "python",
      "version": "3.7.6",
      "mimetype": "text/x-python",
      "codemirror_mode": {
        "name": "ipython",
        "version": 3
      },
      "pygments_lexer": "ipython3",
      "nbconvert_exporter": "python",
      "file_extension": ".py"
    },
    "colab": {
      "provenance": []
    }
  },
  "nbformat_minor": 0,
  "nbformat": 4,
  "cells": [
    {
      "cell_type": "markdown",
      "source": [
        "#### Objective : This code make use of complaint data against financial companies to perform following tasks on the data\n",
        "    1. Create Topic models to classify comlplaints in various categories.\n",
        "    2. We will do test preprcessingw here which remove all token which belong to org and other preprocessing\n",
        "    3. We will try out two Topic Modelling Algorithms\n",
        "        1. Latent Dirichtlet ALogorithm - In my exp does not work well on short text data\n",
        "        2. Non Negative Matrix factorisation"
      ],
      "metadata": {
        "id": "YgYiqYyzlI7J"
      }
    },
    {
      "cell_type": "code",
      "source": [
        "%%html\n",
        "<hr style = \"height : 2px; background-color: gray;\">\n",
        "<center> <h1> BASIC CERTIFICATION COURSE IN ARTIFICIAL INTELLIGENCE </h1></center>\n",
        "<center> <h2> Case Study 2 </h2></center>\n",
        "<center> <h2> Review Comments about Financial Product </h2></center>\n",
        "<b>Submitted by :Rishabh Gupta</b>\n",
        "<h4>Dated:28th July 2023\n",
        "<hr style = \"height : 2px; background-color:gray;\">"
      ],
      "metadata": {
        "colab": {
          "base_uri": "https://localhost:8080/",
          "height": 245
        },
        "id": "-S6xp2W5a8ry",
        "outputId": "f482bc47-9cea-4797-e70e-d8f4edd59908"
      },
      "execution_count": null,
      "outputs": [
        {
          "output_type": "display_data",
          "data": {
            "text/plain": [
              "<IPython.core.display.HTML object>"
            ],
            "text/html": [
              "<hr style = \"height : 2px; background-color: gray;\">\n",
              "<center> <h1> BASIC CERTIFICATION COURSE IN ARTIFICIAL INTELLIGENCE </h1></center>\n",
              "<center> <h2> Case Study 2 </h2></center>\n",
              "<center> <h2> Review Comments about Financial Product </h2></center>\n",
              "<b>Submitted by :Rishabh Gupta</b>\n",
              "<h4>Dated:28th July 2023\n",
              "<hr style = \"height : 2px; background-color:gray;\">\n"
            ]
          },
          "metadata": {}
        }
      ]
    },
    {
      "cell_type": "markdown",
      "source": [
        "#### About the Dataset\n",
        "The dataset comprises of Consumer Complaints on Financial products and we’ll see how to classify consumer complaints text into these categories: Debt collection, Consumer Loan, Mortgage, Credit card, Credit reporting, Student loan, Bank account or service, Payday loan, Money transfers, Other financial service, Prepaid card.\n",
        "Also we will try to identify the companies from the dataset"
      ],
      "metadata": {
        "id": "fkAbIw7QlI7L"
      }
    },
    {
      "cell_type": "markdown",
      "source": [
        "#### Import the required package"
      ],
      "metadata": {
        "id": "VpPuAGfIlI7M"
      }
    },
    {
      "cell_type": "code",
      "source": [
        "import pandas as pd\n",
        "%matplotlib inline\n",
        "from matplotlib import pyplot as plt\n",
        "import nltk\n",
        "import spacy\n",
        "import seaborn as sns\n",
        "import pickle\n",
        "from nltk.stem import PorterStemmer\n",
        "import string"
      ],
      "metadata": {
        "execution": {
          "iopub.status.busy": "2023-06-22T06:18:34.403475Z",
          "iopub.execute_input": "2023-06-22T06:18:34.403942Z",
          "iopub.status.idle": "2023-06-22T06:18:37.393584Z",
          "shell.execute_reply.started": "2023-06-22T06:18:34.403898Z",
          "shell.execute_reply": "2023-06-22T06:18:37.392412Z"
        },
        "trusted": true,
        "id": "Phhkphk4lI7M"
      },
      "execution_count": null,
      "outputs": []
    },
    {
      "cell_type": "markdown",
      "source": [
        "### Read the complaints data csv"
      ],
      "metadata": {
        "id": "6XxsNuX_lI7N"
      }
    },
    {
      "cell_type": "code",
      "source": [
        "complaint_data = pd.read_csv(\"../input/consumer-complaints-financial-products/Consumer_Complaints.csv\",low_memory = False)"
      ],
      "metadata": {
        "execution": {
          "iopub.status.busy": "2023-06-22T06:18:37.395985Z",
          "iopub.execute_input": "2023-06-22T06:18:37.396351Z",
          "iopub.status.idle": "2023-06-22T06:18:44.014781Z",
          "shell.execute_reply.started": "2023-06-22T06:18:37.396317Z",
          "shell.execute_reply": "2023-06-22T06:18:44.013413Z"
        },
        "trusted": true,
        "id": "H-rCGrSslI7N"
      },
      "execution_count": null,
      "outputs": []
    },
    {
      "cell_type": "code",
      "source": [
        "### Convert the columns names so that they don't have space and are more readable\n",
        "complaint_data.columns = [i.lower().replace(\" \",\"_\").replace(\"-\",\"_\") for i in complaint_data.columns]\n",
        "complaint_data.columns"
      ],
      "metadata": {
        "execution": {
          "iopub.status.busy": "2023-06-22T06:18:44.016862Z",
          "iopub.execute_input": "2023-06-22T06:18:44.017284Z",
          "iopub.status.idle": "2023-06-22T06:18:44.030465Z",
          "shell.execute_reply.started": "2023-06-22T06:18:44.017232Z",
          "shell.execute_reply": "2023-06-22T06:18:44.029220Z"
        },
        "trusted": true,
        "id": "REqE3C_zlI7N",
        "outputId": "177edc4b-2508-4604-fcfe-2a51757ec15f"
      },
      "execution_count": null,
      "outputs": [
        {
          "execution_count": 3,
          "output_type": "execute_result",
          "data": {
            "text/plain": "Index(['date_received', 'product', 'sub_product', 'issue', 'sub_issue',\n       'consumer_complaint_narrative', 'company_public_response', 'company',\n       'state', 'zip_code', 'tags', 'consumer_consent_provided?',\n       'submitted_via', 'date_sent_to_company', 'company_response_to_consumer',\n       'timely_response?', 'consumer_disputed?', 'complaint_id'],\n      dtype='object')"
          },
          "metadata": {}
        }
      ]
    },
    {
      "cell_type": "markdown",
      "source": [
        "### Lets understand the shape an dtypes of the data"
      ],
      "metadata": {
        "id": "HViFke7xlI7O"
      }
    },
    {
      "cell_type": "code",
      "source": [
        "print (\"The shape of data is \",complaint_data.shape)\n",
        "print (\"The data types for our data are as follows \")\n"
      ],
      "metadata": {
        "execution": {
          "iopub.status.busy": "2023-06-22T06:18:44.032003Z",
          "iopub.execute_input": "2023-06-22T06:18:44.032428Z",
          "iopub.status.idle": "2023-06-22T06:18:44.045031Z",
          "shell.execute_reply.started": "2023-06-22T06:18:44.032390Z",
          "shell.execute_reply": "2023-06-22T06:18:44.043813Z"
        },
        "trusted": true,
        "id": "S84ZTfZ7lI7O",
        "outputId": "87926271-053d-4253-87dd-220229fc604d"
      },
      "execution_count": null,
      "outputs": [
        {
          "name": "stdout",
          "text": "The shape of data is  (670598, 18)\nThe data types for our data are as follows \n",
          "output_type": "stream"
        }
      ]
    },
    {
      "cell_type": "code",
      "source": [
        "### All the varables are text - which may correspond to categories and other variables\n",
        "print (\" The number of unique values in each column is as follows\")\n",
        "### Lets do a describe with including objects\n",
        "complaint_data.describe(include = 'object').T.reset_index()\n"
      ],
      "metadata": {
        "execution": {
          "iopub.status.busy": "2023-06-22T06:18:44.049904Z",
          "iopub.execute_input": "2023-06-22T06:18:44.050329Z",
          "iopub.status.idle": "2023-06-22T06:18:47.965709Z",
          "shell.execute_reply.started": "2023-06-22T06:18:44.050292Z",
          "shell.execute_reply": "2023-06-22T06:18:47.964681Z"
        },
        "trusted": true,
        "id": "OzVgLbrhlI7O",
        "outputId": "f46c4ed5-08a9-4582-e74c-49a5b516c0b8"
      },
      "execution_count": null,
      "outputs": [
        {
          "name": "stdout",
          "text": " The number of unique values in each column is as follows\n",
          "output_type": "stream"
        },
        {
          "execution_count": 5,
          "output_type": "execute_result",
          "data": {
            "text/plain": "                           index   count  unique  \\\n0                  date_received  670598    1818   \n1                        product  670598      12   \n2                    sub_product  472396      47   \n3                          issue  670598      95   \n4                      sub_issue  269868      68   \n5   consumer_complaint_narrative  114704  112690   \n6        company_public_response  145197      10   \n7                        company  670598    3933   \n8                          state  665293      62   \n9                       zip_code  665274   27889   \n10                          tags   94730       3   \n11    consumer_consent_provided?  208151       4   \n12                 submitted_via  670598       6   \n13          date_sent_to_company  670598    1767   \n14  company_response_to_consumer  670598       8   \n15              timely_response?  670598       2   \n16            consumer_disputed?  629179       2   \n\n                                                  top    freq  \n0                                          08/27/2015     963  \n1                                            Mortgage  210324  \n2                                      Other mortgage   81715  \n3            Loan modification,collection,foreclosure  106455  \n4                                      Account status   32633  \n5   I am filing this complaint because Experian ha...     102  \n6   Company has responded to the consumer and the ...   57364  \n7                                     Bank of America   61720  \n8                                                  CA   97640  \n9                                               300XX    2147  \n10                                     Older American   54881  \n11                                   Consent provided  114704  \n12                                                Web  446035  \n13                                         11/13/2015    1108  \n14                            Closed with explanation  493981  \n15                                                Yes  652848  \n16                                                 No  496466  ",
            "text/html": "<div>\n<style scoped>\n    .dataframe tbody tr th:only-of-type {\n        vertical-align: middle;\n    }\n\n    .dataframe tbody tr th {\n        vertical-align: top;\n    }\n\n    .dataframe thead th {\n        text-align: right;\n    }\n</style>\n<table border=\"1\" class=\"dataframe\">\n  <thead>\n    <tr style=\"text-align: right;\">\n      <th></th>\n      <th>index</th>\n      <th>count</th>\n      <th>unique</th>\n      <th>top</th>\n      <th>freq</th>\n    </tr>\n  </thead>\n  <tbody>\n    <tr>\n      <th>0</th>\n      <td>date_received</td>\n      <td>670598</td>\n      <td>1818</td>\n      <td>08/27/2015</td>\n      <td>963</td>\n    </tr>\n    <tr>\n      <th>1</th>\n      <td>product</td>\n      <td>670598</td>\n      <td>12</td>\n      <td>Mortgage</td>\n      <td>210324</td>\n    </tr>\n    <tr>\n      <th>2</th>\n      <td>sub_product</td>\n      <td>472396</td>\n      <td>47</td>\n      <td>Other mortgage</td>\n      <td>81715</td>\n    </tr>\n    <tr>\n      <th>3</th>\n      <td>issue</td>\n      <td>670598</td>\n      <td>95</td>\n      <td>Loan modification,collection,foreclosure</td>\n      <td>106455</td>\n    </tr>\n    <tr>\n      <th>4</th>\n      <td>sub_issue</td>\n      <td>269868</td>\n      <td>68</td>\n      <td>Account status</td>\n      <td>32633</td>\n    </tr>\n    <tr>\n      <th>5</th>\n      <td>consumer_complaint_narrative</td>\n      <td>114704</td>\n      <td>112690</td>\n      <td>I am filing this complaint because Experian ha...</td>\n      <td>102</td>\n    </tr>\n    <tr>\n      <th>6</th>\n      <td>company_public_response</td>\n      <td>145197</td>\n      <td>10</td>\n      <td>Company has responded to the consumer and the ...</td>\n      <td>57364</td>\n    </tr>\n    <tr>\n      <th>7</th>\n      <td>company</td>\n      <td>670598</td>\n      <td>3933</td>\n      <td>Bank of America</td>\n      <td>61720</td>\n    </tr>\n    <tr>\n      <th>8</th>\n      <td>state</td>\n      <td>665293</td>\n      <td>62</td>\n      <td>CA</td>\n      <td>97640</td>\n    </tr>\n    <tr>\n      <th>9</th>\n      <td>zip_code</td>\n      <td>665274</td>\n      <td>27889</td>\n      <td>300XX</td>\n      <td>2147</td>\n    </tr>\n    <tr>\n      <th>10</th>\n      <td>tags</td>\n      <td>94730</td>\n      <td>3</td>\n      <td>Older American</td>\n      <td>54881</td>\n    </tr>\n    <tr>\n      <th>11</th>\n      <td>consumer_consent_provided?</td>\n      <td>208151</td>\n      <td>4</td>\n      <td>Consent provided</td>\n      <td>114704</td>\n    </tr>\n    <tr>\n      <th>12</th>\n      <td>submitted_via</td>\n      <td>670598</td>\n      <td>6</td>\n      <td>Web</td>\n      <td>446035</td>\n    </tr>\n    <tr>\n      <th>13</th>\n      <td>date_sent_to_company</td>\n      <td>670598</td>\n      <td>1767</td>\n      <td>11/13/2015</td>\n      <td>1108</td>\n    </tr>\n    <tr>\n      <th>14</th>\n      <td>company_response_to_consumer</td>\n      <td>670598</td>\n      <td>8</td>\n      <td>Closed with explanation</td>\n      <td>493981</td>\n    </tr>\n    <tr>\n      <th>15</th>\n      <td>timely_response?</td>\n      <td>670598</td>\n      <td>2</td>\n      <td>Yes</td>\n      <td>652848</td>\n    </tr>\n    <tr>\n      <th>16</th>\n      <td>consumer_disputed?</td>\n      <td>629179</td>\n      <td>2</td>\n      <td>No</td>\n      <td>496466</td>\n    </tr>\n  </tbody>\n</table>\n</div>"
          },
          "metadata": {}
        }
      ]
    },
    {
      "cell_type": "markdown",
      "source": [
        "######  From above description we see that only 114704 rows have complaint text and as we are interested in only those row which have complaint text. We wll drop all rows where complaint narrative is na"
      ],
      "metadata": {
        "id": "1-66OgvKlI7O"
      }
    },
    {
      "cell_type": "code",
      "source": [
        "#### Keep only the consumer complaints is not null\n",
        "complaint_data = complaint_data[~complaint_data['consumer_complaint_narrative'].isna()]"
      ],
      "metadata": {
        "execution": {
          "iopub.status.busy": "2023-06-22T06:18:47.968060Z",
          "iopub.execute_input": "2023-06-22T06:18:47.968463Z",
          "iopub.status.idle": "2023-06-22T06:18:48.115120Z",
          "shell.execute_reply.started": "2023-06-22T06:18:47.968427Z",
          "shell.execute_reply": "2023-06-22T06:18:48.114156Z"
        },
        "trusted": true,
        "id": "CKBiKMMplI7P"
      },
      "execution_count": null,
      "outputs": []
    },
    {
      "cell_type": "code",
      "source": [
        "#### Create a distirbution of length of customers complaints. We have very left skew in length of complaints\n",
        "### Which is expected as most compalints can be written in less than 500 words\n",
        "complaint_data['consumer_complaint_narrative'].apply(len).plot(kind = 'hist')"
      ],
      "metadata": {
        "execution": {
          "iopub.status.busy": "2023-06-22T06:18:48.116698Z",
          "iopub.execute_input": "2023-06-22T06:18:48.117404Z",
          "iopub.status.idle": "2023-06-22T06:18:48.503397Z",
          "shell.execute_reply.started": "2023-06-22T06:18:48.117351Z",
          "shell.execute_reply": "2023-06-22T06:18:48.501919Z"
        },
        "trusted": true,
        "id": "nbEbRf1FlI7P",
        "outputId": "a6c5cd54-5475-45dc-b526-fc196db9fbda"
      },
      "execution_count": null,
      "outputs": [
        {
          "execution_count": 7,
          "output_type": "execute_result",
          "data": {
            "text/plain": "<matplotlib.axes._subplots.AxesSubplot at 0x7cf2ac67b090>"
          },
          "metadata": {}
        },
        {
          "output_type": "display_data",
          "data": {
            "text/plain": "<Figure size 432x288 with 1 Axes>",
            "image/png": "[encoded data removed]"
          },
          "metadata": {
            "needs_background": "light"
          }
        }
      ]
    },
    {
      "cell_type": "code",
      "source": [
        "### Keep the length columns as a new column\n",
        "complaint_data['comp_length'] = complaint_data['consumer_complaint_narrative'].apply(len)\n",
        "complaint_data.reset_index(inplace = True)\n",
        "complaint_data['consumer_complaint_narrative'] = complaint_data['consumer_complaint_narrative'].str.replace(r\"XX+\\s\",\"\")\n",
        "complaint_data['consumer_complaint_narrative'] = complaint_data['consumer_complaint_narrative'].str.replace(\"XXXX\",\"\")"
      ],
      "metadata": {
        "execution": {
          "iopub.status.busy": "2023-06-22T06:18:48.505141Z",
          "iopub.execute_input": "2023-06-22T06:18:48.505550Z",
          "iopub.status.idle": "2023-06-22T06:18:49.799498Z",
          "shell.execute_reply.started": "2023-06-22T06:18:48.505516Z",
          "shell.execute_reply": "2023-06-22T06:18:49.797932Z"
        },
        "trusted": true,
        "id": "CA724FPJlI7P"
      },
      "execution_count": null,
      "outputs": []
    },
    {
      "cell_type": "code",
      "source": [
        "complaint_data = complaint_data.sample(frac = 0.5,random_state = 5)\n",
        "complaint_data.reset_index(inplace = True)"
      ],
      "metadata": {
        "execution": {
          "iopub.status.busy": "2023-06-22T06:18:49.802094Z",
          "iopub.execute_input": "2023-06-22T06:18:49.802643Z",
          "iopub.status.idle": "2023-06-22T06:18:49.883039Z",
          "shell.execute_reply.started": "2023-06-22T06:18:49.802600Z",
          "shell.execute_reply": "2023-06-22T06:18:49.881393Z"
        },
        "trusted": true,
        "id": "u4cqLq1olI7P"
      },
      "execution_count": null,
      "outputs": []
    },
    {
      "cell_type": "markdown",
      "source": [
        "### We will first craete the data processing pipeline to do cleaning on the data"
      ],
      "metadata": {
        "id": "mL97Dj3ZlI7P"
      }
    },
    {
      "cell_type": "code",
      "source": [
        "nlp = spacy.load('en_core_web_sm')\n",
        "### Remove the stop words using spacy predefined list\n",
        "stop_words = nlp.Defaults.stop_words\n",
        "#### Create a list of puntuation to be removed\n",
        "symbols = \" \".join(string.punctuation).split(\" \")\n",
        "### As we are doing topic modelling itsa good idea to do lemmatisation - as it uses morphologial analysis\n",
        "ps = PorterStemmer()\n",
        "import re\n",
        "#### Lets define the cleaning function and see how it works\n",
        "def cleanup_text(docs,logging = False):\n",
        "    texts = []\n",
        "    counter = 1\n",
        "    for doc in docs:\n",
        "\n",
        "        if counter % 5000 == 0 :\n",
        "            print (\"Processed %d of out of %d documents\"% (counter,len(docs)))\n",
        "        counter += 1\n",
        "\n",
        "        doc = nlp(doc) ### We are disabling parser as will nt be using it\n",
        "\n",
        "\n",
        "        tokens = [tok.lemma_.lower().strip() for tok in doc if tok.lemma_ != \"-PRON-\"]\n",
        "\n",
        "        tokens =[tok for tok in tokens if tok not in symbols]\n",
        "        tokens = [tok for tok in tokens if tok not in stop_words]\n",
        "        tokens = [re.sub('[0-9]', '', i) for i in tokens]\n",
        "        tokens = ' '.join(tokens)\n",
        "        texts.append(tokens)\n",
        "    return (pd.Series(texts))"
      ],
      "metadata": {
        "execution": {
          "iopub.status.busy": "2023-06-22T07:39:46.397622Z",
          "iopub.execute_input": "2023-06-22T07:39:46.397983Z",
          "iopub.status.idle": "2023-06-22T07:39:48.372108Z",
          "shell.execute_reply.started": "2023-06-22T07:39:46.397950Z",
          "shell.execute_reply": "2023-06-22T07:39:48.371092Z"
        },
        "trusted": true,
        "id": "85PLIFiFlI7Q"
      },
      "execution_count": null,
      "outputs": []
    },
    {
      "cell_type": "code",
      "source": [
        "complaint_data['comp_preprocessed'] = cleanup_text(complaint_data['consumer_complaint_narrative'])"
      ],
      "metadata": {
        "scrolled": true,
        "execution": {
          "iopub.status.busy": "2023-06-22T06:18:51.480318Z",
          "iopub.execute_input": "2023-06-22T06:18:51.480708Z",
          "iopub.status.idle": "2023-06-22T06:56:15.918526Z",
          "shell.execute_reply.started": "2023-06-22T06:18:51.480672Z",
          "shell.execute_reply": "2023-06-22T06:56:15.916983Z"
        },
        "trusted": true,
        "id": "qcg0vrTolI7Q",
        "outputId": "93c8378c-9bc6-4829-933e-c91d25733bcd"
      },
      "execution_count": null,
      "outputs": [
        {
          "name": "stdout",
          "text": "Processed 5000 of out of 57352 documents\nProcessed 10000 of out of 57352 documents\nProcessed 15000 of out of 57352 documents\nProcessed 20000 of out of 57352 documents\nProcessed 25000 of out of 57352 documents\nProcessed 30000 of out of 57352 documents\nProcessed 35000 of out of 57352 documents\nProcessed 40000 of out of 57352 documents\nProcessed 45000 of out of 57352 documents\nProcessed 50000 of out of 57352 documents\nProcessed 55000 of out of 57352 documents\n",
          "output_type": "stream"
        }
      ]
    },
    {
      "cell_type": "code",
      "source": [
        "print (\"Shape of data before removing NA's ,\",complaint_data.shape)\n",
        "complaint_data =complaint_data[~complaint_data['comp_preprocessed'].isna()]\n",
        "print (\"Shape of data before removing NA's ,\",complaint_data.shape)"
      ],
      "metadata": {
        "execution": {
          "iopub.status.busy": "2023-06-22T06:56:15.920528Z",
          "iopub.execute_input": "2023-06-22T06:56:15.920924Z",
          "iopub.status.idle": "2023-06-22T06:56:16.015279Z",
          "shell.execute_reply.started": "2023-06-22T06:56:15.920888Z",
          "shell.execute_reply": "2023-06-22T06:56:16.013885Z"
        },
        "trusted": true,
        "id": "PhEl1eoelI7Q",
        "outputId": "a793e1b9-e047-49e3-e1c3-35c3dbcec91a"
      },
      "execution_count": null,
      "outputs": [
        {
          "name": "stdout",
          "text": "Shape of data before removing NA's , (57352, 22)\nShape of data before removing NA's , (57352, 22)\n",
          "output_type": "stream"
        }
      ]
    },
    {
      "cell_type": "code",
      "source": [
        "complaint_data[['comp_preprocessed','consumer_complaint_narrative']].head(5)"
      ],
      "metadata": {
        "execution": {
          "iopub.status.busy": "2023-06-22T06:56:16.017010Z",
          "iopub.execute_input": "2023-06-22T06:56:16.017675Z",
          "iopub.status.idle": "2023-06-22T06:56:16.038046Z",
          "shell.execute_reply.started": "2023-06-22T06:56:16.017627Z",
          "shell.execute_reply": "2023-06-22T06:56:16.036041Z"
        },
        "trusted": true,
        "id": "-v7A14lJlI7Q",
        "outputId": "1b691573-1a1f-4f9a-efb3-f254e2406bad"
      },
      "execution_count": null,
      "outputs": [
        {
          "execution_count": 13,
          "output_type": "execute_result",
          "data": {
            "text/plain": "                                   comp_preprocessed  \\\n0  wells fargo need fee waiver issue end want rec...   \n1  husband purchase mortgage . point gmac mortgag...   \n2  option cancel credit monitoring service online...   \n3  transunion bad incompetent lazy lie company fa...   \n4  complaint submit embrace home loans complaint ...   \n\n                        consumer_complaint_narrative  \n0  I called Wells Fargo and I needed fee waiver d...  \n1  In my husband and I purchased a mortgage for t...  \n2  There is NO option for cancelling the credit m...  \n3  Transunion has to be one of the worst, incompe...  \n4  This is the complaint I am submitting against ...  ",
            "text/html": "<div>\n<style scoped>\n    .dataframe tbody tr th:only-of-type {\n        vertical-align: middle;\n    }\n\n    .dataframe tbody tr th {\n        vertical-align: top;\n    }\n\n    .dataframe thead th {\n        text-align: right;\n    }\n</style>\n<table border=\"1\" class=\"dataframe\">\n  <thead>\n    <tr style=\"text-align: right;\">\n      <th></th>\n      <th>comp_preprocessed</th>\n      <th>consumer_complaint_narrative</th>\n    </tr>\n  </thead>\n  <tbody>\n    <tr>\n      <th>0</th>\n      <td>wells fargo need fee waiver issue end want rec...</td>\n      <td>I called Wells Fargo and I needed fee waiver d...</td>\n    </tr>\n    <tr>\n      <th>1</th>\n      <td>husband purchase mortgage . point gmac mortgag...</td>\n      <td>In my husband and I purchased a mortgage for t...</td>\n    </tr>\n    <tr>\n      <th>2</th>\n      <td>option cancel credit monitoring service online...</td>\n      <td>There is NO option for cancelling the credit m...</td>\n    </tr>\n    <tr>\n      <th>3</th>\n      <td>transunion bad incompetent lazy lie company fa...</td>\n      <td>Transunion has to be one of the worst, incompe...</td>\n    </tr>\n    <tr>\n      <th>4</th>\n      <td>complaint submit embrace home loans complaint ...</td>\n      <td>This is the complaint I am submitting against ...</td>\n    </tr>\n  </tbody>\n</table>\n</div>"
          },
          "metadata": {}
        }
      ]
    },
    {
      "cell_type": "markdown",
      "source": [
        "### Lets tranform the data using TFIDF vectoriser\n",
        "1. For learning purpose i am using only tf-idf , but inpractical it as advised to trial out count vectoriser also\n",
        "2. Also, all paarmeters in TF IDF can be treated as Hyperparameters"
      ],
      "metadata": {
        "id": "6NLrAxItlI7Q"
      }
    },
    {
      "cell_type": "code",
      "source": [
        "### Lets Create the piprle line for NMF models\n",
        "from time import time\n",
        "\n",
        "from sklearn.feature_extraction.text import TfidfVectorizer, CountVectorizer\n",
        "from sklearn.decomposition import NMF\n",
        "#####  Let extract from act the features from the dataset\n",
        "\n",
        "print (\"Extracting the tf-idf features form NMF\")\n",
        "tfidf_vectorizer = TfidfVectorizer(max_df = 0.5, min_df = 5, max_features = 500, ngram_range = (1,4))\n",
        "\n",
        "t0 = time()\n",
        "tfidf = tfidf_vectorizer.fit_transform(complaint_data['comp_preprocessed'])\n",
        "print (\"done in %0.3fs.\" % (time() - t0))"
      ],
      "metadata": {
        "execution": {
          "iopub.status.busy": "2023-06-22T06:56:16.039833Z",
          "iopub.execute_input": "2023-06-22T06:56:16.040348Z",
          "iopub.status.idle": "2023-06-22T06:57:32.371007Z",
          "shell.execute_reply.started": "2023-06-22T06:56:16.040303Z",
          "shell.execute_reply": "2023-06-22T06:57:32.369610Z"
        },
        "trusted": true,
        "id": "oHo4kMkTlI7R",
        "outputId": "c419804a-3d05-4297-f3aa-323f4d91f33c"
      },
      "execution_count": null,
      "outputs": [
        {
          "name": "stdout",
          "text": "Extracting the tf-idf features form NMF\ndone in 76.287s.\n",
          "output_type": "stream"
        }
      ]
    },
    {
      "cell_type": "code",
      "source": [
        "#### Now we will fit model for 10 diff values of clusters\n",
        "n_comp = [10,20,30,40,50,60,70,80,90,100,110]\n",
        "loss = []\n",
        "for comps in n_comp:\n",
        "\n",
        "    t0 = time()\n",
        "    nmf = NMF(n_components = comps, random_state = 1, beta_loss = 'kullback-leibler',solver = 'mu',max_iter = 200,\n",
        "             alpha = 0.1, l1_ratio = 0.5).fit(tfidf)\n",
        "    loss.append(nmf.reconstruction_err_)\n",
        "    print (\"done in %0.3f \" % (time() -t0))"
      ],
      "metadata": {
        "execution": {
          "iopub.status.busy": "2023-06-22T06:57:32.373089Z",
          "iopub.execute_input": "2023-06-22T06:57:32.373615Z",
          "iopub.status.idle": "2023-06-22T07:34:40.119734Z",
          "shell.execute_reply.started": "2023-06-22T06:57:32.373565Z",
          "shell.execute_reply": "2023-06-22T07:34:40.118169Z"
        },
        "trusted": true,
        "id": "w2C-K8hwlI7R",
        "outputId": "d52e7ab1-c68a-4de6-824b-7a4a8e3dc504"
      },
      "execution_count": null,
      "outputs": [
        {
          "name": "stdout",
          "text": "done in 46.818 \ndone in 64.172 \ndone in 85.226 \ndone in 113.229 \ndone in 146.799 \ndone in 178.991 \ndone in 208.497 \ndone in 257.548 \ndone in 312.148 \ndone in 343.540 \ndone in 470.763 \n",
          "output_type": "stream"
        }
      ]
    },
    {
      "cell_type": "code",
      "source": [
        "### Let try to create a elbow and find out the best model clusters\n",
        "plt.plot(loss)\n",
        "plt.xlabel('Number of Topics')\n",
        "plt.ylabel('Reconstruction Error - Frobenius Norm')"
      ],
      "metadata": {
        "execution": {
          "iopub.status.busy": "2023-06-22T07:34:40.122018Z",
          "iopub.execute_input": "2023-06-22T07:34:40.122495Z",
          "iopub.status.idle": "2023-06-22T07:34:40.316057Z",
          "shell.execute_reply.started": "2023-06-22T07:34:40.122452Z",
          "shell.execute_reply": "2023-06-22T07:34:40.314640Z"
        },
        "trusted": true,
        "id": "fb6FJ2jglI7R",
        "outputId": "50a33b15-a9bb-4233-f446-9bbc8e8e603c"
      },
      "execution_count": null,
      "outputs": [
        {
          "execution_count": 16,
          "output_type": "execute_result",
          "data": {
            "text/plain": "Text(0, 0.5, 'Reconstruction Error - Frobenius Norm')"
          },
          "metadata": {}
        },
        {
          "output_type": "display_data",
          "data": {
            "text/plain": "<Figure size 432x288 with 1 Axes>",
            "image/png": "[encoded data removed]"
          },
          "metadata": {
            "needs_background": "light"
          }
        }
      ]
    },
    {
      "cell_type": "markdown",
      "source": [
        "### Define a function which goes through - topic * word matrix and extract the top keywords"
      ],
      "metadata": {
        "id": "n9JjS9hXlI7R"
      }
    },
    {
      "cell_type": "code",
      "source": [
        "def print_top_words(model, feature_names, n_top_words):\n",
        "    for topic_idx, topic in enumerate(model.components_):\n",
        "        message = \"Topic #%d: \" % topic_idx\n",
        "        message += \" \".join([feature_names[i]\n",
        "                             for i in topic.argsort()[:-n_top_words - 1:-1]])\n",
        "        print(message)\n",
        "    print()"
      ],
      "metadata": {
        "execution": {
          "iopub.status.busy": "2023-06-22T07:34:40.318182Z",
          "iopub.execute_input": "2023-06-22T07:34:40.319217Z",
          "iopub.status.idle": "2023-06-22T07:34:40.330728Z",
          "shell.execute_reply.started": "2023-06-22T07:34:40.319150Z",
          "shell.execute_reply": "2023-06-22T07:34:40.329040Z"
        },
        "trusted": true,
        "id": "QtBF0yC-lI7S"
      },
      "execution_count": null,
      "outputs": []
    },
    {
      "cell_type": "code",
      "source": [
        "print_top_words(nmf, tfidf_vectorizer.get_feature_names(), 10)"
      ],
      "metadata": {
        "execution": {
          "iopub.status.busy": "2023-06-22T07:34:40.333946Z",
          "iopub.execute_input": "2023-06-22T07:34:40.334465Z",
          "iopub.status.idle": "2023-06-22T07:34:40.393018Z",
          "shell.execute_reply.started": "2023-06-22T07:34:40.334414Z",
          "shell.execute_reply": "2023-06-22T07:34:40.391980Z"
        },
        "trusted": true,
        "id": "2DNL6Fg-lI7S",
        "outputId": "0ae08c93-847c-44b0-d2cf-521be77a1682"
      },
      "execution_count": null,
      "outputs": [
        {
          "name": "stdout",
          "text": "Topic #0: long way situation end sure time explain good fact finally\nTopic #1: report credit credit report account debt report credit account credit collection negative remove credit\nTopic #2: xx xx xx xx xx xx xx xx xx xx report credit credit report date debt report credit\nTopic #3: account bank checking card checking account bank account debit branch credit card charge\nTopic #4: mortgage loan modification payment loan modification home refinance mortgage payment foreclosure servicer\nTopic #5: card credit card credit payment limit charge use pay cancel purchase\nTopic #6: payment late pay account late payment monthly monthly payment miss month delinquent\nTopic #7: wells fargo wells fargo pay credit interest mortgage loss branch rate\nTopic #8: loan pay default bank interest student school private afford high\nTopic #9: bank america bank america mortgage boa modification foreclosure mortgage payment banking foreclose\nTopic #10: tell pay try talk ask money know people come week\nTopic #11: pay bill medical pay bill charge billing turn care company year\nTopic #12: charge fee late fee overdraft late total interest add post additional\nTopic #13: collection agency collection agency debt collection send letter receive directly correspondence send letter\nTopic #14: number phone phone number collection person different look debt collection stop agency\nTopic #15: verify dispute information fcra file ignore soon require possible section\nTopic #16: chase branch interest rate policy banking high interest rate process office\nTopic #17: company mortgage company mortgage knowledge recently insurance pull authorize rate discover\nTopic #18: number information account number address copy include telephone personal id detail\nTopic #19: inquiry credit hard authorize remove inquire pull run immediately follow\nTopic #20: identity theft identity theft fraudulent victim police steal id result fraud\nTopic #21: interest rate interest rate high low principal term increase balance fix\nTopic #22: equifax remove dispute investigation file investigate incorrect correct credit file status\nTopic #23: credit score credit score history affect line point cause good information\nTopic #24: service customer customer service representative receive day provide rep information website\nTopic #25: remove dispute remove credit investigate item experian respond previously immediately investigation\nTopic #26: attorney foreclosure review document complete borrower state file loss sale\nTopic #27: check cash clear write bad aware return post receive deposit\nTopic #28: day time late week later wait period hour multiple early\nTopic #29: information personal provide inaccurate incorrect remove false info ask account\nTopic #30: money day dollar people owe withdraw plus use bank account bank\nTopic #31: car vehicle title finance purchase buy auto lease early sell\nTopic #32: file bankruptcy credit file include credit complaint file complaint court attorney case\nTopic #33: damage proof receipt prove accord responsible signature insurance evidence medical\nTopic #34: finance pull auto run co authorize car inquire report hard\nTopic #35: address live incorrect current correct year currently previous wrong mail\nTopic #36: speak tell supervisor rep department service ask manager customer representative\nTopic #37: year ago year ago old past month service time pay recently\nTopic #38: owe receive letter receive letter state indicate letter state confirm later regard\nTopic #39: experian report boa incorrect account inaccurate file america year status\nTopic #40: insurance problem policy cover result force cause fix escrow resolution\nTopic #41: send letter send letter letter state certify try account sell receive letter dispute\nTopic #42: tell different company ask change correct send hear talk mistake\nTopic #43: sale property short short sale home foreclosure sell agent foreclose value\nTopic #44: balance statement payoff remain reflect history status ago limit year\nTopic #45: reporting credit reporting reporting agency agency credit reporting agency credit negative fair act dispute\nTopic #46: citi point bonus requirement offer meet confirm promise post citibank\nTopic #47: phone owe harass writing management repeatedly stop threaten talk loan\nTopic #48: provide documentation request contact response regard copy directly claim fail\nTopic #49: transunion result report violation score fcra investigation consumer violate accord\nTopic #50: email paypal receive send communication response notification mail notify receipt\nTopic #51: ocwen note servicing mortgage illegal trust llc practice property clearly\nTopic #52: request receive today unable account assistance currently verification submit respond\nTopic #53: complaint file file complaint thank resolve cfpb reach matter regard agency\nTopic #54: home job lose work help afford life income family wife\nTopic #55: try close reason closing think thing free cost time etc\nTopic #56: contact debt inform regard pay confirm company advise owe telephone\nTopic #57: month add payment month start end period monthly later plan early\nTopic #58: open close close account open account account open charge year remain fee capital\nTopic #59: collect attempt collect debt try damage collection contact home inc company\nTopic #60: tell letter write date receive receive letter consider default mail writing\nTopic #61: date ask verification question provide reference prior letter begin verify\nTopic #62: security social social security id card live use address verify fraud\nTopic #63: statement send notice receive copy paper paperwork mail place account\nTopic #64: capital appear llc management account contact send notice statement possible\nTopic #65: stop debt continue harass ask repeatedly personal receive reference complaint\nTopic #66: answer numerous time hang info question second person office repeatedly\nTopic #67: act right violation consumer fair practice law violate demand notice\nTopic #68: work state different time employee job paper second office payment\nTopic #69: time multiple party obtain demand write despite appear account thank\nTopic #70: item delete return previously inaccurate remain attach immediately follow credit\nTopic #71: student student loan navient school private program co federal paperwork payment\nTopic #72: bureau credit bureau report verify report credit notification wrong bureaus like delinquent\nTopic #73: lien tax release property taxis withdraw hold refuse owner reflect\nTopic #74: collector debt collector bureau collect credit bureau original collect debt creditor pay owe\nTopic #75: state consumer review status clearly update previous account concern protection\nTopic #76: change cancel people know set suppose website want think online\nTopic #77: request form office immediately fax debit hear non type forward\nTopic #78: application income appraisal approve deny base process apply value cost\nTopic #79: fraud fraudulent investigation activity department knowledge find investigate claim state\nTopic #80: leave message return debt answer multiple time mail reference today\nTopic #81: court debt order attorney judgment case law party legal etc\nTopic #82: sign contract proof provide agreement copy signature original agree state\nTopic #83: transfer american express point refuse spend agent minute cancel cash\nTopic #84: escrow taxis increase department issue new refund add additional advise\nTopic #85: bureaus credit bureaus update credit reporting inaccurate reflect status negative remove\nTopic #86: use online access line allow able free website system unable\nTopic #87: fund wrong hold available claim return transfer direct need deposit\nTopic #88: creditor apply original deny recently notify judgment list current refuse\nTopic #89: document submit principal apply attach additional support lie documentation research\nTopic #90: nationstar husband sell pass owner away property payoff finance vehicle\nTopic #91: help need citibank thank assistance fax matter mail program today\nTopic #92: claim know notice let lease refuse false right come believe\nTopic #93: refuse list account continue union add instead accept use fraudulent\nTopic #94: deposit hold direct manager branch minute access accept bring week\nTopic #95: speak find discover representative explain agent inform later immediately understand\nTopic #96: issue resolve fix attempt happen inform mistake promise fail agree\nTopic #97: ve transaction refund post cancel protection different return online consumer\nTopic #98: new house person wife live husband turn help old find\nTopic #99: mail business advise plan settle speak ve certify reach writing\nTopic #100: debt validation validate fail agreement respond response question collection answer\nTopic #101: case law attach federal cfpb complaint allow previous require respond\nTopic #102: continue offer union settlement agree accept settle term instead agreement\nTopic #103: past lender correct error navient approve mistake inform program financial\nTopic #104: want like ditech feel look matter option good deal thank\nTopic #105: financial family services cause mother buy job lose life house\nTopic #106: place system error inc hour spend form discover notify checking\nTopic #107: record purchase order total line explanation monthly indicate cancel obtain\nTopic #108: process come need believe dollar complete cash today able follow\nTopic #109: recovery legal threaten action old inc family inquire write repeatedly\n\n",
          "output_type": "stream"
        }
      ]
    },
    {
      "cell_type": "code",
      "source": [
        "from sklearn.decomposition import LatentDirichletAllocation"
      ],
      "metadata": {
        "execution": {
          "iopub.status.busy": "2023-06-22T07:34:40.394474Z",
          "iopub.execute_input": "2023-06-22T07:34:40.394821Z",
          "iopub.status.idle": "2023-06-22T07:34:40.401521Z",
          "shell.execute_reply.started": "2023-06-22T07:34:40.394789Z",
          "shell.execute_reply": "2023-06-22T07:34:40.400499Z"
        },
        "trusted": true,
        "id": "d97Dlz-clI7S"
      },
      "execution_count": null,
      "outputs": []
    },
    {
      "cell_type": "code",
      "source": [
        "# Fit the NMF model\n",
        "#### Now we will fit model for 10 diff values of clusters\n",
        "n_comp = [10,20,30,40,50]\n",
        "\n",
        "for comps in n_comp:\n",
        "    loss1 = []\n",
        "    t0 = time()\n",
        "    lda = LatentDirichletAllocation(n_components=comps, max_iter=2,\n",
        "                                learning_method='online',\n",
        "                                learning_offset=50.,\n",
        "                                random_state=0)\n",
        "    lda.fit(tfidf)\n",
        "    print(\"done in %0.3fs.\" % (time() - t0))"
      ],
      "metadata": {
        "execution": {
          "iopub.status.busy": "2023-06-22T07:34:40.402944Z",
          "iopub.execute_input": "2023-06-22T07:34:40.403343Z",
          "iopub.status.idle": "2023-06-22T07:39:46.353704Z",
          "shell.execute_reply.started": "2023-06-22T07:34:40.403307Z",
          "shell.execute_reply": "2023-06-22T07:39:46.352357Z"
        },
        "trusted": true,
        "id": "JDqo6yI9lI7S",
        "outputId": "901a2e4c-5960-43c5-9aa4-e039f8ae391c"
      },
      "execution_count": null,
      "outputs": [
        {
          "name": "stdout",
          "text": "done in 59.682s.\ndone in 58.484s.\ndone in 60.230s.\ndone in 62.606s.\ndone in 64.933s.\n",
          "output_type": "stream"
        }
      ]
    },
    {
      "cell_type": "code",
      "source": [
        "print_top_words(lda, tfidf_vectorizer.get_feature_names(), 10)"
      ],
      "metadata": {
        "execution": {
          "iopub.status.busy": "2023-06-22T07:39:46.355007Z",
          "iopub.execute_input": "2023-06-22T07:39:46.355367Z",
          "iopub.status.idle": "2023-06-22T07:39:46.394697Z",
          "shell.execute_reply.started": "2023-06-22T07:39:46.355333Z",
          "shell.execute_reply": "2023-06-22T07:39:46.392996Z"
        },
        "trusted": true,
        "id": "4U2RSusnlI7S",
        "outputId": "be6023ce-42ce-4f57-8e3c-92220fe5b4f8"
      },
      "execution_count": null,
      "outputs": [
        {
          "name": "stdout",
          "text": "Topic #0: charge card balance fee credit card interest pay credit statement cancel\nTopic #1: letter court complaint send response case attorney file document cfpb\nTopic #2: escrow ocwen mortgage taxis insurance payment pay loan property tax\nTopic #3: citi card credit card citibank line mistake transfer balance today thank\nTopic #4: card credit card capital credit limit apply use bank open account\nTopic #5: delete bad bill mortgage payment minute xx xx xx xx reporting application credit reporting agency response\nTopic #6: collection debt agency collection agency validation credit report account send letter\nTopic #7: access fund money card withdraw hold system able account bill\nTopic #8: lease contract sign agreement early vehicle turn damage agree service\nTopic #9: report bankruptcy credit report credit remove remove credit file credit file report credit account\nTopic #10: modification loan sale mortgage loan modification home foreclosure payment short sale short\nTopic #11: year ago write violate attach validate affect person settlement addition explain\nTopic #12: act violation fair reporting fcra credit violate credit reporting section inquiry\nTopic #13: debit false previous proof pay provide year date owe credit\nTopic #14: loan mortgage home appraisal refinance lender value house application bank\nTopic #15: lien mortgage property tax release title nationstar trust loan note\nTopic #16: paypal free credit report online website info credit report account try\nTopic #17: check bank money cash account bank account refund deposit transaction fund\nTopic #18: wells fargo wells fargo account bank mortgage home loan money time\nTopic #19: car vehicle loan finance auto pay payment purchase payoff financial\nTopic #20: equifax report credit account bureau credit bureau credit report remove dispute account credit\nTopic #21: phone number debt tell phone number stop company ask message time\nTopic #22: score credit credit score report card year ago year ago credit report account\nTopic #23: theft identity identity theft account victim open police report fraudulent account open\nTopic #24: report account update credit status inaccurate credit report balance incorrect date\nTopic #25: customer service tell speak customer service supervisor receive representative account time\nTopic #26: bill insurance medical pay pay bill collection owe service billing company\nTopic #27: experian item report dispute credit report credit remove account judgment information\nTopic #28: payment mortgage ditech principal monthly month loan pay monthly payment mortgage payment\nTopic #29: pay work tell job husband time loan money help payment\nTopic #30: chase card bank credit card branch deny investigate post respond open\nTopic #31: account bank fee deposit overdraft charge checking check checking account money\nTopic #32: aware addition account chase bank send close withdraw auto branch\nTopic #33: inquiry credit report credit report hard pull remove authorize union inquire\nTopic #34: account number knowledge number account ve detail type application protection clear\nTopic #35: rate interest interest rate loan high closing payment pay low charge\nTopic #36: verify dispute fcra ignore file delete section soon possible file complaint\nTopic #37: mother wife pass old away record account simply find decide\nTopic #38: loan student student loan payment navient school pay private plan month\nTopic #39: interest ve refuse services today understand reporting right continue etc\nTopic #40: late payment fee late fee late payment pay account charge credit day\nTopic #41: credit report reporting bureaus credit bureaus credit reporting reporting agency agency account credit reporting agency\nTopic #42: fraud indicate party despite evidence correspondence lie clear research writing\nTopic #43: america bank america bank boa account charge card close mortgage loan\nTopic #44: american express discover card account credit charge credit card purchase use\nTopic #45: transunion settlement settle validate report debt delete credit report balance pay\nTopic #46: citibank bonus requirement offer citi account card meet point open\nTopic #47: address social security social security live report number credit information credit report\nTopic #48: debt collect collector owe collection debt collector collect debt company report credit\nTopic #49: xx xx xx xx xx xx xx xx xx xx payment account credit pay report loan\n\n",
          "output_type": "stream"
        }
      ]
    }
  ]
}